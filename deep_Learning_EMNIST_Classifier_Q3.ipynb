{
  "nbformat": 4,
  "nbformat_minor": 0,
  "metadata": {
    "colab": {
      "provenance": [],
      "include_colab_link": true
    },
    "kernelspec": {
      "name": "python3",
      "display_name": "Python 3"
    },
    "language_info": {
      "name": "python"
    }
  },
  "cells": [
    {
      "cell_type": "markdown",
      "metadata": {
        "id": "view-in-github",
        "colab_type": "text"
      },
      "source": [
        "<a href=\"https://colab.research.google.com/github/budur1/ML-projects/blob/main/deep_Learning_EMNIST_Classifier_Q3.ipynb\" target=\"_parent\"><img src=\"https://colab.research.google.com/assets/colab-badge.svg\" alt=\"Open In Colab\"/></a>"
      ]
    },
    {
      "cell_type": "markdown",
      "source": [
        "## Task: Train an EMNIST classifier\n",
        "\n",
        "EMNIST (or extended MNIST) is just like MNIST, a bunch of handwritten images, except instead of just digits (0-9) it also has uppercase and lowercase characters.\n",
        "\n",
        "You are provided with the code to load the EMNIST train and split **datasets**\n",
        "\n",
        "Write and train a classifier for EMNIST. Make sure to\n",
        "\n",
        "- Show how your loss(es) dropped during training.\n",
        "- Show final performance of your model on untrained data.\n",
        "- Maintain good code quality."
      ],
      "metadata": {
        "id": "zemWtDr8gVOf"
      }
    },
    {
      "cell_type": "code",
      "source": [
        "import torch\n",
        "import torch.nn as nn\n",
        "import torch.optim as optim\n",
        "import numpy as pd\n",
        "\n",
        "import matplotlib.pyplot as plt\n",
        "import numpy as np\n",
        "\n",
        "import torchvision\n",
        "from torchvision.datasets import EMNIST\n",
        "import torchvision.transforms.functional as F\n",
        "import torch.nn.functional as F\n",
        "from torchvision import transforms\n",
        "from torch.utils.data import DataLoader, Subset"
      ],
      "metadata": {
        "id": "4GQMlmw2hwbn"
      },
      "execution_count": 1,
      "outputs": []
    },
    {
      "cell_type": "code",
      "source": [
        "train_data = EMNIST(root='emnist_data/', split='byclass', download=True)\n",
        "test_data = EMNIST(root='emnist_data/', split='byclass', download=True, train=False)"
      ],
      "metadata": {
        "id": "InCfHKZme7ga",
        "colab": {
          "base_uri": "https://localhost:8080/"
        },
        "outputId": "22b2df8d-b21f-432d-9b5e-3585061ad44d"
      },
      "execution_count": 2,
      "outputs": [
        {
          "output_type": "stream",
          "name": "stdout",
          "text": [
            "Downloading https://www.itl.nist.gov/iaui/vip/cs_links/EMNIST/gzip.zip to emnist_data/EMNIST/raw/gzip.zip\n"
          ]
        },
        {
          "output_type": "stream",
          "name": "stderr",
          "text": [
            "100%|██████████| 561753746/561753746 [00:08<00:00, 69585123.32it/s]\n"
          ]
        },
        {
          "output_type": "stream",
          "name": "stdout",
          "text": [
            "Extracting emnist_data/EMNIST/raw/gzip.zip to emnist_data/EMNIST/raw\n"
          ]
        }
      ]
    },
    {
      "cell_type": "code",
      "source": [
        "train_data"
      ],
      "metadata": {
        "colab": {
          "base_uri": "https://localhost:8080/"
        },
        "id": "U5OpwySBAuAH",
        "outputId": "385a08a1-1b78-4b6c-a77f-b8bc95079f5d"
      },
      "execution_count": 3,
      "outputs": [
        {
          "output_type": "execute_result",
          "data": {
            "text/plain": [
              "Dataset EMNIST\n",
              "    Number of datapoints: 697932\n",
              "    Root location: emnist_data/\n",
              "    Split: Train"
            ]
          },
          "metadata": {},
          "execution_count": 3
        }
      ]
    },
    {
      "cell_type": "code",
      "source": [
        "# This cell is for demo purposes. feel free to remove it if you want.\n",
        "print('Number of classes in dataset:', len(train_data.classes))\n",
        "print('Unique labels:', train_data.classes)\n",
        "\n",
        "demo_img, demo_label = train_data[10]\n",
        "\n",
        "print(demo_label)\n",
        "torchvision.transforms.functional.resize(demo_img, (255, 255)) # handle the conversion of images to tensors"
      ],
      "metadata": {
        "colab": {
          "base_uri": "https://localhost:8080/",
          "height": 344
        },
        "id": "udb4rY5Vhaau",
        "outputId": "135fe711-041f-4c19-e08a-a9b5554c9f3c"
      },
      "execution_count": 4,
      "outputs": [
        {
          "output_type": "stream",
          "name": "stdout",
          "text": [
            "Number of classes in dataset: 62\n",
            "Unique labels: ['0', '1', '2', '3', '4', '5', '6', '7', '8', '9', 'A', 'B', 'C', 'D', 'E', 'F', 'G', 'H', 'I', 'J', 'K', 'L', 'M', 'N', 'O', 'P', 'Q', 'R', 'S', 'T', 'U', 'V', 'W', 'X', 'Y', 'Z', 'a', 'b', 'c', 'd', 'e', 'f', 'g', 'h', 'i', 'j', 'k', 'l', 'm', 'n', 'o', 'p', 'q', 'r', 's', 't', 'u', 'v', 'w', 'x', 'y', 'z']\n",
            "7\n"
          ]
        },
        {
          "output_type": "execute_result",
          "data": {
            "text/plain": [
              "<PIL.Image.Image image mode=L size=255x255>"
            ],
            "image/png": "[encoded data removed]"
          },
          "metadata": {},
          "execution_count": 4
        }
      ]
    },
    {
      "cell_type": "code",
      "source": [
        "# Check the shape of the images and labels\n",
        "print(train_data.data.shape)\n",
        "print(train_data.targets.shape)\n",
        "print(\"Number of classes: \", len(train_data.classes))"
      ],
      "metadata": {
        "colab": {
          "base_uri": "https://localhost:8080/"
        },
        "id": "qCsofKlxqovq",
        "outputId": "7bbd9bbd-50fc-423c-bb30-2d670e6a26b4"
      },
      "execution_count": 5,
      "outputs": [
        {
          "output_type": "stream",
          "name": "stdout",
          "text": [
            "torch.Size([697932, 28, 28])\n",
            "torch.Size([697932])\n",
            "Number of classes:  62\n"
          ]
        }
      ]
    },
    {
      "cell_type": "code",
      "source": [
        "# tran it to a vector\n",
        "train_data.data = train_data.data.reshape(-1,28*28)\n",
        "test_data.data = test_data.data.reshape(-1,28*28)\n",
        "\n",
        "print(train_data.data.shape)"
      ],
      "metadata": {
        "colab": {
          "base_uri": "https://localhost:8080/"
        },
        "id": "kI4EQtJwXmpw",
        "outputId": "34e95a21-eade-40f1-b713-4ce04345a5be"
      },
      "execution_count": 6,
      "outputs": [
        {
          "output_type": "stream",
          "name": "stdout",
          "text": [
            "torch.Size([697932, 784])\n"
          ]
        }
      ]
    },
    {
      "cell_type": "markdown",
      "source": [
        "# Data Preprocessing"
      ],
      "metadata": {
        "id": "tDztWDoH5722"
      }
    },
    {
      "cell_type": "code",
      "source": [
        "# take data to GPU\n",
        "device = torch.device(\"cuda:0\" if torch.cuda.is_available() else \"cpu\")"
      ],
      "metadata": {
        "id": "kzLybLbp6C1A"
      },
      "execution_count": 7,
      "outputs": []
    },
    {
      "cell_type": "code",
      "source": [
        "# Transformations for the EMNIST dataset\n",
        "transform = transforms.Compose([\n",
        "    transforms.ToTensor(), # Convert images to tensors\n",
        "])\n",
        "\n",
        "# Load the datasets\n",
        "train_data = EMNIST(root='emnist_data/', split='byclass', train=True, download=True, transform=transform)\n",
        "test_data = EMNIST(root='emnist_data/', split='byclass', train=False, download=True, transform=transform)\n",
        "\n",
        "# Define the size of the subset as a fraction of the original dataset\n",
        "subset_fraction = 0.1 ## You can play with this to get a bigger or smaller subset\n",
        "\n",
        "# Create indices for the training subset\n",
        "train_indices = np.random.choice(len(train_data), int(len(train_data) * subset_fraction), replace=False)\n",
        "\n",
        "# Create the training subset\n",
        "train_subset = Subset(train_data, train_indices)\n",
        "\n",
        "# For the test set, you can do the same or use the full test set\n",
        "test_indices = np.random.choice(len(test_data), int(len(test_data) * subset_fraction), replace=False)\n",
        "test_subset = Subset(test_data, test_indices)\n",
        "\n",
        "# Check the size of the subset\n",
        "print(f\"Training subset size: {len(train_subset)}\")\n",
        "print(f\"Test subset size: {len(test_subset)}\")\n",
        "\n",
        "# Define the DataLoaders\n",
        "train_loader = DataLoader(train_subset, batch_size=32, shuffle=True)\n",
        "test_loader = DataLoader(test_subset, batch_size=32, shuffle=False)"
      ],
      "metadata": {
        "id": "Ia6MAyxqhiAi",
        "colab": {
          "base_uri": "https://localhost:8080/"
        },
        "outputId": "0d45ba93-81a1-4e7a-86f1-aeafd10f25d6"
      },
      "execution_count": 8,
      "outputs": [
        {
          "output_type": "stream",
          "name": "stdout",
          "text": [
            "Training subset size: 69793\n",
            "Test subset size: 11632\n"
          ]
        }
      ]
    },
    {
      "cell_type": "markdown",
      "source": [
        "# NN Model"
      ],
      "metadata": {
        "id": "2Bc5JKgVN3ZD"
      }
    },
    {
      "cell_type": "code",
      "source": [
        " #Define the model architecture\n",
        "class EMNISTClassifier(nn.Module):\n",
        "    def __init__(self):\n",
        "        super(EMNISTClassifier, self).__init__()\n",
        "        self.conv1 = nn.Conv2d(1, 32, 3, 1, padding=1)\n",
        "        self.conv2 = nn.Conv2d(32, 64, 3, 1, padding=1)\n",
        "        self.fc1 = nn.Linear(7 * 7 * 64, 128)  # Adjust the input size after max pooling\n",
        "        self.fc2 = nn.Linear(128, 62)  # 62 classes in EMNIST\n",
        "        self.relu = nn.ReLU()\n",
        "        self.softmax = nn.Softmax(dim=1)\n",
        "\n",
        "    def forward(self, x):\n",
        "        x = self.relu(self.conv1(x))\n",
        "        x = F.max_pool2d(x, 2, 2)\n",
        "        x = self.relu(self.conv2(x))\n",
        "        x = F.max_pool2d(x, 2, 2)\n",
        "        x = x.view(-1, 7 * 7 * 64)  # Adjust the input size after max pooling\n",
        "        x = self.relu(self.fc1(x))\n",
        "        x = self.fc2(x)\n",
        "        return self.softmax(x)"
      ],
      "metadata": {
        "id": "01CX9FnzNBgp"
      },
      "execution_count": 9,
      "outputs": []
    },
    {
      "cell_type": "markdown",
      "source": [
        "# Loss Function and Optimizer"
      ],
      "metadata": {
        "id": "7Pc5vZKtODTm"
      }
    },
    {
      "cell_type": "code",
      "source": [
        "#Instantiate the model\n",
        "model = EMNISTClassifier().to(device)\n",
        "\n",
        "#Define the loss function (cross-entropy loss)\n",
        "criterion = nn.CrossEntropyLoss()\n",
        "\n",
        "#Define the optimizer (Adam's)\n",
        "optimizer = optim.Adam(model.parameters(), lr=1e-4)\n"
      ],
      "metadata": {
        "id": "-5rHoNTGOHrU"
      },
      "execution_count": 14,
      "outputs": []
    },
    {
      "cell_type": "markdown",
      "source": [
        "# Training"
      ],
      "metadata": {
        "id": "ByFdxksuP4mS"
      }
    },
    {
      "cell_type": "code",
      "source": [
        "\n",
        "# Set the number of epochs\n",
        "num_epochs = 10\n",
        "\n",
        "# Define lists to store loss and accuracy for plotting\n",
        "train_loss = []\n",
        "train_acc = []\n",
        "\n",
        "# Set the model to training mode\n",
        "model.train()\n",
        "\n",
        "# Start training loop\n",
        "for epoch in range(num_epochs):\n",
        "    running_loss = 0.0\n",
        "    correct_predictions = 0\n",
        "    total_predictions = 0\n",
        "\n",
        "    # Iterate over the training dataset in batches\n",
        "    for images, labels in train_loader:\n",
        "        # Move the inputs and labels to the device\n",
        "        images, labels = images.to(device), labels.to(device)\n",
        "\n",
        "        # Zero the parameter gradients\n",
        "        optimizer.zero_grad()\n",
        "\n",
        "        # Forward pass\n",
        "        outputs = model(images)\n",
        "\n",
        "        # Compute the loss\n",
        "        loss = criterion(outputs, labels)\n",
        "\n",
        "        # Backward pass and optimization\n",
        "        loss.backward()\n",
        "        optimizer.step()\n",
        "\n",
        "        # Update running loss\n",
        "        running_loss += loss.item()\n",
        "\n",
        "        # Compute accuracy\n",
        "        _, predicted = torch.max(outputs, 1)\n",
        "        total_predictions += labels.size(0)\n",
        "        correct_predictions += (predicted == labels).sum().item()\n",
        "\n",
        "    # Calculate average loss and accuracy for the epoch\n",
        "    epoch_loss = running_loss / len(train_loader)\n",
        "    epoch_acc = correct_predictions / total_predictions\n",
        "\n",
        "    # Print statistics\n",
        "    print(f'Epoch [{epoch+1}/{num_epochs}], Loss: {epoch_loss:.4f}, Accuracy: {epoch_acc:.4f}')\n",
        "\n",
        "    # Save the loss and accuracy for plotting\n",
        "    train_loss.append(epoch_loss)\n",
        "    train_acc.append(epoch_acc)\n"
      ],
      "metadata": {
        "colab": {
          "base_uri": "https://localhost:8080/"
        },
        "id": "Cmhr022AP3iH",
        "outputId": "9f650124-39a8-4975-945d-8b5044ea3b49"
      },
      "execution_count": 15,
      "outputs": [
        {
          "output_type": "stream",
          "name": "stdout",
          "text": [
            "Epoch [1/10], Loss: 3.8272, Accuracy: 0.3337\n",
            "Epoch [2/10], Loss: 3.7872, Accuracy: 0.3682\n",
            "Epoch [3/10], Loss: 3.7728, Accuracy: 0.3829\n",
            "Epoch [4/10], Loss: 3.7267, Accuracy: 0.4293\n",
            "Epoch [5/10], Loss: 3.7031, Accuracy: 0.4524\n",
            "Epoch [6/10], Loss: 3.6790, Accuracy: 0.4772\n",
            "Epoch [7/10], Loss: 3.6656, Accuracy: 0.4901\n",
            "Epoch [8/10], Loss: 3.6573, Accuracy: 0.4980\n",
            "Epoch [9/10], Loss: 3.6454, Accuracy: 0.5101\n",
            "Epoch [10/10], Loss: 3.6426, Accuracy: 0.5124\n"
          ]
        }
      ]
    },
    {
      "cell_type": "code",
      "source": [
        "\n",
        "plt.figure(figsize=(10, 5))\n",
        "plt.subplot(1, 2, 1)\n",
        "plt.plot(train_loss, label='Training Loss')\n",
        "plt.xlabel('Epoch')\n",
        "plt.ylabel('Loss')\n",
        "plt.title('Training Loss')\n",
        "\n",
        "plt.subplot(1, 2, 2)\n",
        "plt.plot(train_acc, label='Training Accuracy')\n",
        "plt.xlabel('Epoch')\n",
        "plt.ylabel('Accuracy')\n",
        "plt.title('Training Accuracy')\n",
        "\n",
        "plt.legend()\n",
        "plt.show()\n"
      ],
      "metadata": {
        "colab": {
          "base_uri": "https://localhost:8080/",
          "height": 487
        },
        "id": "swohZVX7bR67",
        "outputId": "29026944-46fb-4b48-b6c9-6104a8fdb637"
      },
      "execution_count": 16,
      "outputs": [
        {
          "output_type": "display_data",
          "data": {
            "text/plain": [
              "<Figure size 1000x500 with 2 Axes>"
            ],
            "image/png": "[encoded data removed]"
          },
          "metadata": {}
        }
      ]
    }
  ]
}